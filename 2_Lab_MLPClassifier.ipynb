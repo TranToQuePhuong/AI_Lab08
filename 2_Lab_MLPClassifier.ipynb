{
  "nbformat": 4,
  "nbformat_minor": 0,
  "metadata": {
    "kernelspec": {
      "display_name": "Python 3",
      "language": "python",
      "name": "python3"
    },
    "language_info": {
      "codemirror_mode": {
        "name": "ipython",
        "version": 3
      },
      "file_extension": ".py",
      "mimetype": "text/x-python",
      "name": "python",
      "nbconvert_exporter": "python",
      "pygments_lexer": "ipython3",
      "version": "3.6.6"
    },
    "colab": {
      "name": "2-Lab-MLPClassifier.ipynb",
      "provenance": [],
      "toc_visible": true,
      "include_colab_link": true
    }
  },
  "cells": [
    {
      "cell_type": "markdown",
      "metadata": {
        "id": "view-in-github",
        "colab_type": "text"
      },
      "source": [
        "<a href=\"https://colab.research.google.com/github/TranToQuePhuong/AI_Lab08/blob/master/2_Lab_MLPClassifier.ipynb\" target=\"_parent\"><img src=\"https://colab.research.google.com/assets/colab-badge.svg\" alt=\"Open In Colab\"/></a>"
      ]
    },
    {
      "cell_type": "markdown",
      "metadata": {
        "colab_type": "text",
        "id": "gvKshvFzQorr"
      },
      "source": [
        "#  Multilayer Perceptron trong Python"
      ]
    },
    {
      "cell_type": "code",
      "metadata": {
        "id": "rB8aeNkkTlmB",
        "colab_type": "code",
        "colab": {}
      },
      "source": [
        "import numpy as np\n",
        "\n",
        "from matplotlib import pyplot as plt\n",
        "from matplotlib.colors import ListedColormap\n",
        "\n",
        "from sklearn.model_selection import train_test_split\n",
        "from sklearn import preprocessing \n",
        "from sklearn.preprocessing import StandardScaler\n",
        "from sklearn.datasets import make_moons\n",
        "import numpy as np\n",
        "from sklearn.neural_network import MLPClassifier"
      ],
      "execution_count": 1,
      "outputs": []
    },
    {
      "cell_type": "markdown",
      "metadata": {
        "id": "UrskkcUlTlmH",
        "colab_type": "text"
      },
      "source": [
        "## 1) MLPClassifier for toy dataset "
      ]
    },
    {
      "cell_type": "markdown",
      "metadata": {
        "id": "MJkwbvmKTlmH",
        "colab_type": "text"
      },
      "source": [
        "### Chuẩn bị dữ liệu"
      ]
    },
    {
      "cell_type": "code",
      "metadata": {
        "id": "Aq2fV_P4TlmI",
        "colab_type": "code",
        "colab": {}
      },
      "source": [
        "# Create artificial dataset (classification problem within 2 classes within R^2 input space)\n",
        "X, y = make_moons(n_samples=900, noise=0.2, random_state=0)"
      ],
      "execution_count": 2,
      "outputs": []
    },
    {
      "cell_type": "code",
      "metadata": {
        "id": "jZkcAyJsTlmL",
        "colab_type": "code",
        "colab": {}
      },
      "source": [
        "X = np.array(X)\n",
        "y = np.array(y)"
      ],
      "execution_count": 3,
      "outputs": []
    },
    {
      "cell_type": "code",
      "metadata": {
        "id": "018rr0erTlmQ",
        "colab_type": "code",
        "colab": {
          "base_uri": "https://localhost:8080/",
          "height": 34
        },
        "outputId": "b0109396-3b5a-4009-fb2e-98686239fc55"
      },
      "source": [
        "X.shape"
      ],
      "execution_count": 4,
      "outputs": [
        {
          "output_type": "execute_result",
          "data": {
            "text/plain": [
              "(900, 2)"
            ]
          },
          "metadata": {
            "tags": []
          },
          "execution_count": 4
        }
      ]
    },
    {
      "cell_type": "code",
      "metadata": {
        "id": "PCFckuhKTlmc",
        "colab_type": "code",
        "colab": {
          "base_uri": "https://localhost:8080/",
          "height": 34
        },
        "outputId": "237a1ea4-17ce-4918-8d16-fecdfded77b7"
      },
      "source": [
        "y.shape"
      ],
      "execution_count": 5,
      "outputs": [
        {
          "output_type": "execute_result",
          "data": {
            "text/plain": [
              "(900,)"
            ]
          },
          "metadata": {
            "tags": []
          },
          "execution_count": 5
        }
      ]
    },
    {
      "cell_type": "code",
      "metadata": {
        "id": "PA6WpiizTlmi",
        "colab_type": "code",
        "colab": {}
      },
      "source": [
        "# Preprocess dataset, and split into training and test part\n",
        "X = StandardScaler().fit_transform(X)\n",
        "X_train, X_test, y_train, y_test = train_test_split(X, y, test_size=0.7)"
      ],
      "execution_count": 6,
      "outputs": []
    },
    {
      "cell_type": "code",
      "metadata": {
        "id": "rqgeXH9mTlmp",
        "colab_type": "code",
        "colab": {}
      },
      "source": [
        "# Encode class labels as binary vector (with exactly ONE bit set to 1, and all others to 0)\n",
        "Y_train_OneHot = np.eye(2)[y_train]\n",
        "Y_test_OneHot = np.eye(2)[y_test]"
      ],
      "execution_count": 7,
      "outputs": []
    },
    {
      "cell_type": "code",
      "metadata": {
        "id": "GRcCjodJTlmv",
        "colab_type": "code",
        "colab": {
          "base_uri": "https://localhost:8080/",
          "height": 34
        },
        "outputId": "68ac8b4b-5ac2-4d20-cd0f-a6294ced0a7c"
      },
      "source": [
        "X_train.shape"
      ],
      "execution_count": 8,
      "outputs": [
        {
          "output_type": "execute_result",
          "data": {
            "text/plain": [
              "(270, 2)"
            ]
          },
          "metadata": {
            "tags": []
          },
          "execution_count": 8
        }
      ]
    },
    {
      "cell_type": "code",
      "metadata": {
        "id": "pZV9uPTiTlm4",
        "colab_type": "code",
        "colab": {
          "base_uri": "https://localhost:8080/",
          "height": 34
        },
        "outputId": "d1f7baf7-4a20-45c0-e7ec-961c4eb1089b"
      },
      "source": [
        "y_train.shape"
      ],
      "execution_count": 9,
      "outputs": [
        {
          "output_type": "execute_result",
          "data": {
            "text/plain": [
              "(270,)"
            ]
          },
          "metadata": {
            "tags": []
          },
          "execution_count": 9
        }
      ]
    },
    {
      "cell_type": "code",
      "metadata": {
        "id": "UReoPBsdTlm_",
        "colab_type": "code",
        "colab": {}
      },
      "source": [
        "# Plot training+testing dataset\n",
        "################################\n",
        "cm = plt.cm.RdBu\n",
        "cm_bright = ListedColormap(['#FF0000', '#0000FF'])"
      ],
      "execution_count": 10,
      "outputs": []
    },
    {
      "cell_type": "code",
      "metadata": {
        "scrolled": true,
        "id": "W6BMAdbWTlnF",
        "colab_type": "code",
        "colab": {
          "base_uri": "https://localhost:8080/",
          "height": 282
        },
        "outputId": "4b5c5d5a-362d-460b-b4b1-40c9885b7f57"
      },
      "source": [
        "# Plot the training points...\n",
        "plt.scatter(X_train[:, 0], X_train[:, 1], c=y_train, cmap=cm_bright)"
      ],
      "execution_count": 11,
      "outputs": [
        {
          "output_type": "execute_result",
          "data": {
            "text/plain": [
              "<matplotlib.collections.PathCollection at 0x7fc3e6cb22b0>"
            ]
          },
          "metadata": {
            "tags": []
          },
          "execution_count": 11
        },
        {
          "output_type": "display_data",
          "data": {
            "image/png": "[encoded data removed]",
            "text/plain": [
              "<Figure size 432x288 with 1 Axes>"
            ]
          },
          "metadata": {
            "tags": [],
            "needs_background": "light"
          }
        }
      ]
    },
    {
      "cell_type": "code",
      "metadata": {
        "scrolled": true,
        "id": "fjrwVeKfTlnJ",
        "colab_type": "code",
        "colab": {
          "base_uri": "https://localhost:8080/",
          "height": 282
        },
        "outputId": "5be7361a-0802-4558-8c2e-ca8ed36055f4"
      },
      "source": [
        "#   ...and testing points\n",
        "plt.scatter(X_test[:, 0], X_test[:, 1], marker='x', c=y_test, cmap=cm_bright, alpha=0.3)\n"
      ],
      "execution_count": 12,
      "outputs": [
        {
          "output_type": "execute_result",
          "data": {
            "text/plain": [
              "<matplotlib.collections.PathCollection at 0x7fc3e3ffca58>"
            ]
          },
          "metadata": {
            "tags": []
          },
          "execution_count": 12
        },
        {
          "output_type": "display_data",
          "data": {
            "image/png": "[encoded data removed]",
            "text/plain": [
              "<Figure size 432x288 with 1 Axes>"
            ]
          },
          "metadata": {
            "tags": [],
            "needs_background": "light"
          }
        }
      ]
    },
    {
      "cell_type": "markdown",
      "metadata": {
        "id": "gPQb_jhyTlnP",
        "colab_type": "text"
      },
      "source": [
        "### Xây dựng model `MLPClassifier`"
      ]
    },
    {
      "cell_type": "code",
      "metadata": {
        "scrolled": true,
        "id": "qZdmizwRTlnQ",
        "colab_type": "code",
        "colab": {
          "base_uri": "https://localhost:8080/",
          "height": 153
        },
        "outputId": "564588ae-0e47-4498-a5ab-2ea61724621c"
      },
      "source": [
        "\n",
        "\n",
        "clf = MLPClassifier(hidden_layer_sizes=(1, ), activation='tanh', solver='sgd', \n",
        "                    alpha=0.0000001, batch_size=4, learning_rate='constant', learning_rate_init=0.005, \n",
        "                    power_t=0.5, max_iter=500, shuffle=True, random_state=11, tol=0.00001, \n",
        "                    verbose=True, warm_start=False, momentum=0.8, nesterovs_momentum=True, \n",
        "                    early_stopping=False, validation_fraction=0.2, \n",
        "                    beta_1=0.9, beta_2=0.999, epsilon=1e-08)\n",
        "print(clf)"
      ],
      "execution_count": 13,
      "outputs": [
        {
          "output_type": "stream",
          "text": [
            "MLPClassifier(activation='tanh', alpha=1e-07, batch_size=4, beta_1=0.9,\n",
            "              beta_2=0.999, early_stopping=False, epsilon=1e-08,\n",
            "              hidden_layer_sizes=(1,), learning_rate='constant',\n",
            "              learning_rate_init=0.005, max_fun=15000, max_iter=500,\n",
            "              momentum=0.8, n_iter_no_change=10, nesterovs_momentum=True,\n",
            "              power_t=0.5, random_state=11, shuffle=True, solver='sgd',\n",
            "              tol=1e-05, validation_fraction=0.2, verbose=True,\n",
            "              warm_start=False)\n"
          ],
          "name": "stdout"
        }
      ]
    },
    {
      "cell_type": "code",
      "metadata": {
        "scrolled": true,
        "id": "_U9kMgfDTlnT",
        "colab_type": "code",
        "colab": {
          "base_uri": "https://localhost:8080/",
          "height": 1000
        },
        "outputId": "9dcb6ec9-8748-4836-9ab4-77a819394e96"
      },
      "source": [
        "\n",
        "# Train the MLP classifier on training dataset\n",
        "clf.fit(X_train, Y_train_OneHot)\n",
        "print()\n"
      ],
      "execution_count": 14,
      "outputs": [
        {
          "output_type": "stream",
          "text": [
            "Iteration 1, loss = 1.66502746\n",
            "Iteration 2, loss = 1.50299776\n",
            "Iteration 3, loss = 1.43220147\n",
            "Iteration 4, loss = 1.39701121\n",
            "Iteration 5, loss = 1.37452910\n",
            "Iteration 6, loss = 1.34389737\n",
            "Iteration 7, loss = 1.29116652\n",
            "Iteration 8, loss = 1.20149743\n",
            "Iteration 9, loss = 1.07500202\n",
            "Iteration 10, loss = 0.94137757\n",
            "Iteration 11, loss = 0.83643723\n",
            "Iteration 12, loss = 0.76374348\n",
            "Iteration 13, loss = 0.71733949\n",
            "Iteration 14, loss = 0.68723098\n",
            "Iteration 15, loss = 0.66882489\n",
            "Iteration 16, loss = 0.65484945\n",
            "Iteration 17, loss = 0.64510853\n",
            "Iteration 18, loss = 0.63891939\n",
            "Iteration 19, loss = 0.63189985\n",
            "Iteration 20, loss = 0.62905077\n",
            "Iteration 21, loss = 0.62415889\n",
            "Iteration 22, loss = 0.62067253\n",
            "Iteration 23, loss = 0.61917658\n",
            "Iteration 24, loss = 0.61719395\n",
            "Iteration 25, loss = 0.61580669\n",
            "Iteration 26, loss = 0.61342012\n",
            "Iteration 27, loss = 0.61049874\n",
            "Iteration 28, loss = 0.61140214\n",
            "Iteration 29, loss = 0.60913416\n",
            "Iteration 30, loss = 0.60437874\n",
            "Iteration 31, loss = 0.60662165\n",
            "Iteration 32, loss = 0.60337253\n",
            "Iteration 33, loss = 0.60218757\n",
            "Iteration 34, loss = 0.59939258\n",
            "Iteration 35, loss = 0.59927659\n",
            "Iteration 36, loss = 0.59755036\n",
            "Iteration 37, loss = 0.59671566\n",
            "Iteration 38, loss = 0.59368454\n",
            "Iteration 39, loss = 0.59425935\n",
            "Iteration 40, loss = 0.59355299\n",
            "Iteration 41, loss = 0.59290103\n",
            "Iteration 42, loss = 0.59612431\n",
            "Iteration 43, loss = 0.59043254\n",
            "Iteration 44, loss = 0.58984153\n",
            "Iteration 45, loss = 0.59300423\n",
            "Iteration 46, loss = 0.58939125\n",
            "Iteration 47, loss = 0.58817362\n",
            "Iteration 48, loss = 0.58958562\n",
            "Iteration 49, loss = 0.58902515\n",
            "Iteration 50, loss = 0.58985273\n",
            "Iteration 51, loss = 0.58419138\n",
            "Iteration 52, loss = 0.58560018\n",
            "Iteration 53, loss = 0.58801423\n",
            "Iteration 54, loss = 0.58632081\n",
            "Iteration 55, loss = 0.58746267\n",
            "Iteration 56, loss = 0.58852703\n",
            "Iteration 57, loss = 0.58521827\n",
            "Iteration 58, loss = 0.58519622\n",
            "Iteration 59, loss = 0.58377819\n",
            "Iteration 60, loss = 0.58353755\n",
            "Iteration 61, loss = 0.58001287\n",
            "Iteration 62, loss = 0.58603550\n",
            "Iteration 63, loss = 0.58146043\n",
            "Iteration 64, loss = 0.58239512\n",
            "Iteration 65, loss = 0.58105430\n",
            "Iteration 66, loss = 0.58329409\n",
            "Iteration 67, loss = 0.58134971\n",
            "Iteration 68, loss = 0.58564118\n",
            "Iteration 69, loss = 0.58123894\n",
            "Iteration 70, loss = 0.58412979\n",
            "Iteration 71, loss = 0.58097327\n",
            "Iteration 72, loss = 0.57896895\n",
            "Iteration 73, loss = 0.58415798\n",
            "Iteration 74, loss = 0.57321134\n",
            "Iteration 75, loss = 0.58472058\n",
            "Iteration 76, loss = 0.58280446\n",
            "Iteration 77, loss = 0.57830121\n",
            "Iteration 78, loss = 0.57842485\n",
            "Iteration 79, loss = 0.57782115\n",
            "Iteration 80, loss = 0.58504829\n",
            "Iteration 81, loss = 0.58448522\n",
            "Iteration 82, loss = 0.58157996\n",
            "Iteration 83, loss = 0.57663586\n",
            "Iteration 84, loss = 0.58223118\n",
            "Iteration 85, loss = 0.57988625\n",
            "Training loss did not improve more than tol=0.000010 for 10 consecutive epochs. Stopping.\n",
            "\n"
          ],
          "name": "stdout"
        }
      ]
    },
    {
      "cell_type": "code",
      "metadata": {
        "id": "IM-Ivx-wTlnW",
        "colab_type": "code",
        "colab": {
          "base_uri": "https://localhost:8080/",
          "height": 34
        },
        "outputId": "9d16a2a1-f0a3-4600-de7d-4287b3546872"
      },
      "source": [
        "\n",
        "# Evaluate acuracy on test data\n",
        "score = clf.score(X_test,Y_test_OneHot)\n",
        "print(\"Acuracy (on test set) = \", score)"
      ],
      "execution_count": 15,
      "outputs": [
        {
          "output_type": "stream",
          "text": [
            "Acuracy (on test set) =  0.8523809523809524\n"
          ],
          "name": "stdout"
        }
      ]
    },
    {
      "cell_type": "markdown",
      "metadata": {
        "id": "EZB09qhMTlna",
        "colab_type": "text"
      },
      "source": [
        "### Sử dụng GridSearchCV để chọn bộ thông số tốt nhất "
      ]
    },
    {
      "cell_type": "code",
      "metadata": {
        "id": "HxAObvVoTlnb",
        "colab_type": "code",
        "colab": {}
      },
      "source": [
        "from sklearn.model_selection import GridSearchCV\n",
        "from sklearn.neural_network import MLPClassifier\n",
        "from sklearn.metrics import classification_report\n",
        "\n",
        "# param_grid = [\n",
        "#   {'hidden_layer_sizes': [(5,), (10,), (15,), (25,)], \n",
        "#    'learning_rate_init':[0.003, 0.01, 0.03, 0.1],\n",
        "#    'alpha': [0.00001, 0.0001, 0.001, 0.01]}\n",
        "#  ]\n",
        "\n",
        "param_grid = [\n",
        "  {'hidden_layer_sizes': [(5,), (10,)], \n",
        "   'learning_rate_init':[0.003, 0.01],\n",
        "   'alpha': [0.00001, 0.0001]}\n",
        " ]\n",
        "\n",
        "\n",
        "clf = GridSearchCV( MLPClassifier(activation='tanh', alpha=1e-07, batch_size=4, beta_1=0.9,\n",
        "   beta_2=0.999, early_stopping=False, epsilon=1e-08,\n",
        "   hidden_layer_sizes=(10,), learning_rate='constant',\n",
        "   learning_rate_init=0.005, max_iter=500, momentum=0.8,\n",
        "   nesterovs_momentum=True, power_t=0.5, random_state=11, shuffle=True,\n",
        "   solver='adam', tol=1e-05, validation_fraction=0.3, verbose=False,\n",
        "   warm_start=False), \n",
        "   param_grid, cv=3, scoring='accuracy')\n",
        "\n"
      ],
      "execution_count": 16,
      "outputs": []
    },
    {
      "cell_type": "code",
      "metadata": {
        "id": "CkJVgMB8Tln2",
        "colab_type": "code",
        "colab": {
          "base_uri": "https://localhost:8080/",
          "height": 190
        },
        "outputId": "0c23de94-3494-42ce-ef44-19967c0fc74b"
      },
      "source": [
        "clf.fit(X_train, Y_train_OneHot)\n",
        "print(\"Best parameters set found on development set:\")\n",
        "\n"
      ],
      "execution_count": 17,
      "outputs": [
        {
          "output_type": "stream",
          "text": [
            "/usr/local/lib/python3.6/dist-packages/sklearn/neural_network/_multilayer_perceptron.py:571: ConvergenceWarning: Stochastic Optimizer: Maximum iterations (500) reached and the optimization hasn't converged yet.\n",
            "  % self.max_iter, ConvergenceWarning)\n",
            "/usr/local/lib/python3.6/dist-packages/sklearn/neural_network/_multilayer_perceptron.py:571: ConvergenceWarning: Stochastic Optimizer: Maximum iterations (500) reached and the optimization hasn't converged yet.\n",
            "  % self.max_iter, ConvergenceWarning)\n",
            "/usr/local/lib/python3.6/dist-packages/sklearn/neural_network/_multilayer_perceptron.py:571: ConvergenceWarning: Stochastic Optimizer: Maximum iterations (500) reached and the optimization hasn't converged yet.\n",
            "  % self.max_iter, ConvergenceWarning)\n",
            "/usr/local/lib/python3.6/dist-packages/sklearn/neural_network/_multilayer_perceptron.py:571: ConvergenceWarning: Stochastic Optimizer: Maximum iterations (500) reached and the optimization hasn't converged yet.\n",
            "  % self.max_iter, ConvergenceWarning)\n"
          ],
          "name": "stderr"
        },
        {
          "output_type": "stream",
          "text": [
            "Best parameters set found on development set:\n"
          ],
          "name": "stdout"
        }
      ]
    },
    {
      "cell_type": "code",
      "metadata": {
        "id": "dN5Ql1RfTln8",
        "colab_type": "code",
        "colab": {
          "base_uri": "https://localhost:8080/",
          "height": 34
        },
        "outputId": "d2d1eb04-26e1-4a63-c95a-6f739456330f"
      },
      "source": [
        "print(clf.best_params_)\n"
      ],
      "execution_count": 18,
      "outputs": [
        {
          "output_type": "stream",
          "text": [
            "{'alpha': 1e-05, 'hidden_layer_sizes': (10,), 'learning_rate_init': 0.003}\n"
          ],
          "name": "stdout"
        }
      ]
    },
    {
      "cell_type": "code",
      "metadata": {
        "id": "FcAZo-FmTloF",
        "colab_type": "code",
        "colab": {
          "base_uri": "https://localhost:8080/",
          "height": 153
        },
        "outputId": "74d024d7-2eef-4926-885e-39e236c8314c"
      },
      "source": [
        "clf.best_estimator_"
      ],
      "execution_count": 19,
      "outputs": [
        {
          "output_type": "execute_result",
          "data": {
            "text/plain": [
              "MLPClassifier(activation='tanh', alpha=1e-05, batch_size=4, beta_1=0.9,\n",
              "              beta_2=0.999, early_stopping=False, epsilon=1e-08,\n",
              "              hidden_layer_sizes=(10,), learning_rate='constant',\n",
              "              learning_rate_init=0.003, max_fun=15000, max_iter=500,\n",
              "              momentum=0.8, n_iter_no_change=10, nesterovs_momentum=True,\n",
              "              power_t=0.5, random_state=11, shuffle=True, solver='adam',\n",
              "              tol=1e-05, validation_fraction=0.3, verbose=False,\n",
              "              warm_start=False)"
            ]
          },
          "metadata": {
            "tags": []
          },
          "execution_count": 19
        }
      ]
    },
    {
      "cell_type": "code",
      "metadata": {
        "id": "0HTGNZiFTloM",
        "colab_type": "code",
        "colab": {
          "base_uri": "https://localhost:8080/",
          "height": 34
        },
        "outputId": "b61f3038-be0f-477d-dd5e-36411be7c334"
      },
      "source": [
        "clf.best_score_"
      ],
      "execution_count": 20,
      "outputs": [
        {
          "output_type": "execute_result",
          "data": {
            "text/plain": [
              "0.9407407407407407"
            ]
          },
          "metadata": {
            "tags": []
          },
          "execution_count": 20
        }
      ]
    },
    {
      "cell_type": "markdown",
      "metadata": {
        "id": "QLJVCPCFTloW",
        "colab_type": "text"
      },
      "source": [
        "## 2) MLPClassifier cho bộ dữ liệu số"
      ]
    },
    {
      "cell_type": "code",
      "metadata": {
        "id": "8-RPGRtxTloX",
        "colab_type": "code",
        "colab": {
          "base_uri": "https://localhost:8080/",
          "height": 360
        },
        "outputId": "fdfa8a43-b9b9-407d-831e-a79782bd0fb1"
      },
      "source": [
        "from sklearn.datasets import load_digits\n",
        "from sklearn.model_selection import train_test_split\n",
        "from sklearn.neural_network import MLPClassifier\n",
        "from sklearn.metrics import classification_report\n",
        "\n",
        "digits = load_digits()\n",
        "n_samples = len(digits.images)\n",
        "print(\"Number_of-examples = \", n_samples)\n",
        "\n",
        "import matplotlib.pyplot as plt\n",
        "print(\"\\n Plot of first example\")\n",
        "plt.gray() \n",
        "plt.matshow(digits.images[0]) \n",
        "print(\"CLOSE PLOT WINDOW TO CONTINUE\")\n",
        "plt.ioff()"
      ],
      "execution_count": 21,
      "outputs": [
        {
          "output_type": "stream",
          "text": [
            "Number_of-examples =  1797\n",
            "\n",
            " Plot of first example\n",
            "CLOSE PLOT WINDOW TO CONTINUE\n"
          ],
          "name": "stdout"
        },
        {
          "output_type": "display_data",
          "data": {
            "text/plain": [
              "<Figure size 432x288 with 0 Axes>"
            ]
          },
          "metadata": {
            "tags": []
          }
        },
        {
          "output_type": "display_data",
          "data": {
            "image/png": "[encoded data removed]",
            "text/plain": [
              "<Figure size 288x288 with 1 Axes>"
            ]
          },
          "metadata": {
            "tags": [],
            "needs_background": "light"
          }
        }
      ]
    },
    {
      "cell_type": "code",
      "metadata": {
        "id": "8gePMDOkTlol",
        "colab_type": "code",
        "colab": {}
      },
      "source": [
        "\n",
        "# Flatten the images, to turn data in a (samples, feature) matrix:\n",
        "data = digits.images.reshape((n_samples, -1))\n",
        "\n",
        "X = data\n",
        "y = digits.target\n",
        "X_train, X_test, y_train, y_test = train_test_split(X, y, test_size=0.2)"
      ],
      "execution_count": 22,
      "outputs": []
    },
    {
      "cell_type": "code",
      "metadata": {
        "id": "IePliBR1Tlo1",
        "colab_type": "code",
        "colab": {
          "base_uri": "https://localhost:8080/",
          "height": 34
        },
        "outputId": "d4521c42-1a2b-4c33-9732-28f34855ca4b"
      },
      "source": [
        "X_train.shape"
      ],
      "execution_count": 23,
      "outputs": [
        {
          "output_type": "execute_result",
          "data": {
            "text/plain": [
              "(1437, 64)"
            ]
          },
          "metadata": {
            "tags": []
          },
          "execution_count": 23
        }
      ]
    },
    {
      "cell_type": "code",
      "metadata": {
        "scrolled": true,
        "id": "a-hmi9VATlpt",
        "colab_type": "code",
        "colab": {
          "base_uri": "https://localhost:8080/",
          "height": 34
        },
        "outputId": "b6f6e8d3-a848-4096-b511-9d1a402d15be"
      },
      "source": [
        "y_train.shape"
      ],
      "execution_count": 24,
      "outputs": [
        {
          "output_type": "execute_result",
          "data": {
            "text/plain": [
              "(1437,)"
            ]
          },
          "metadata": {
            "tags": []
          },
          "execution_count": 24
        }
      ]
    },
    {
      "cell_type": "code",
      "metadata": {
        "id": "Hl6cEglPTlpw",
        "colab_type": "code",
        "colab": {}
      },
      "source": [
        "clf = MLPClassifier(hidden_layer_sizes=(30, ), activation='tanh', solver='sgd', \n",
        "                    alpha=0.00001, batch_size=4, learning_rate='constant', learning_rate_init=0.01, \n",
        "                    power_t=0.5, max_iter=500, shuffle=True, random_state=11, tol=0.00001, \n",
        "                    verbose=True, warm_start=False, momentum=0.8, nesterovs_momentum=True, \n",
        "                    early_stopping=True, validation_fraction=0.1, \n",
        "                    beta_1=0.9, beta_2=0.999, epsilon=1e-08)"
      ],
      "execution_count": 25,
      "outputs": []
    },
    {
      "cell_type": "code",
      "metadata": {
        "id": "jiDp66zvTlpz",
        "colab_type": "code",
        "colab": {
          "base_uri": "https://localhost:8080/",
          "height": 153
        },
        "outputId": "dd2191c3-5bca-4893-ab06-78132e04aaae"
      },
      "source": [
        "clf"
      ],
      "execution_count": 26,
      "outputs": [
        {
          "output_type": "execute_result",
          "data": {
            "text/plain": [
              "MLPClassifier(activation='tanh', alpha=1e-05, batch_size=4, beta_1=0.9,\n",
              "              beta_2=0.999, early_stopping=True, epsilon=1e-08,\n",
              "              hidden_layer_sizes=(30,), learning_rate='constant',\n",
              "              learning_rate_init=0.01, max_fun=15000, max_iter=500,\n",
              "              momentum=0.8, n_iter_no_change=10, nesterovs_momentum=True,\n",
              "              power_t=0.5, random_state=11, shuffle=True, solver='sgd',\n",
              "              tol=1e-05, validation_fraction=0.1, verbose=True,\n",
              "              warm_start=False)"
            ]
          },
          "metadata": {
            "tags": []
          },
          "execution_count": 26
        }
      ]
    },
    {
      "cell_type": "code",
      "metadata": {
        "scrolled": true,
        "id": "_8W-OzCqTlp3",
        "colab_type": "code",
        "colab": {
          "base_uri": "https://localhost:8080/",
          "height": 1000
        },
        "outputId": "d9c02901-cf3d-4457-a2e5-2e062514ff48"
      },
      "source": [
        "# Train the MLP classifier on training dataset\n",
        "clf.fit(X_train, y_train)\n"
      ],
      "execution_count": 27,
      "outputs": [
        {
          "output_type": "stream",
          "text": [
            "Iteration 1, loss = 1.23478038\n",
            "Validation score: 0.798611\n",
            "Iteration 2, loss = 0.66581426\n",
            "Validation score: 0.715278\n",
            "Iteration 3, loss = 0.48259294\n",
            "Validation score: 0.756944\n",
            "Iteration 4, loss = 0.55959375\n",
            "Validation score: 0.687500\n",
            "Iteration 5, loss = 0.59231452\n",
            "Validation score: 0.694444\n",
            "Iteration 6, loss = 0.59107448\n",
            "Validation score: 0.506944\n",
            "Iteration 7, loss = 0.53785463\n",
            "Validation score: 0.743056\n",
            "Iteration 8, loss = 0.57120195\n",
            "Validation score: 0.645833\n",
            "Iteration 9, loss = 0.52218112\n",
            "Validation score: 0.833333\n",
            "Iteration 10, loss = 0.42856812\n",
            "Validation score: 0.708333\n",
            "Iteration 11, loss = 0.45935009\n",
            "Validation score: 0.819444\n",
            "Iteration 12, loss = 0.38437933\n",
            "Validation score: 0.819444\n",
            "Iteration 13, loss = 0.45910756\n",
            "Validation score: 0.777778\n",
            "Iteration 14, loss = 0.45404439\n",
            "Validation score: 0.736111\n",
            "Iteration 15, loss = 0.54326317\n",
            "Validation score: 0.708333\n",
            "Iteration 16, loss = 0.37908451\n",
            "Validation score: 0.881944\n",
            "Iteration 17, loss = 0.26770198\n",
            "Validation score: 0.847222\n",
            "Iteration 18, loss = 0.32785660\n",
            "Validation score: 0.805556\n",
            "Iteration 19, loss = 0.39628942\n",
            "Validation score: 0.784722\n",
            "Iteration 20, loss = 0.44708563\n",
            "Validation score: 0.826389\n",
            "Iteration 21, loss = 0.27143254\n",
            "Validation score: 0.812500\n",
            "Iteration 22, loss = 0.28947689\n",
            "Validation score: 0.819444\n",
            "Iteration 23, loss = 0.39578699\n",
            "Validation score: 0.819444\n",
            "Iteration 24, loss = 0.43420627\n",
            "Validation score: 0.722222\n",
            "Iteration 25, loss = 0.38232863\n",
            "Validation score: 0.812500\n",
            "Iteration 26, loss = 0.31566126\n",
            "Validation score: 0.847222\n",
            "Iteration 27, loss = 0.40635333\n",
            "Validation score: 0.611111\n",
            "Validation score did not improve more than tol=0.000010 for 10 consecutive epochs. Stopping.\n"
          ],
          "name": "stdout"
        },
        {
          "output_type": "execute_result",
          "data": {
            "text/plain": [
              "MLPClassifier(activation='tanh', alpha=1e-05, batch_size=4, beta_1=0.9,\n",
              "              beta_2=0.999, early_stopping=True, epsilon=1e-08,\n",
              "              hidden_layer_sizes=(30,), learning_rate='constant',\n",
              "              learning_rate_init=0.01, max_fun=15000, max_iter=500,\n",
              "              momentum=0.8, n_iter_no_change=10, nesterovs_momentum=True,\n",
              "              power_t=0.5, random_state=11, shuffle=True, solver='sgd',\n",
              "              tol=1e-05, validation_fraction=0.1, verbose=True,\n",
              "              warm_start=False)"
            ]
          },
          "metadata": {
            "tags": []
          },
          "execution_count": 27
        }
      ]
    },
    {
      "cell_type": "code",
      "metadata": {
        "id": "BYnKNIZqTlp5",
        "colab_type": "code",
        "colab": {
          "base_uri": "https://localhost:8080/",
          "height": 34
        },
        "outputId": "79f1256c-944f-4dc6-a46d-7213aef0267b"
      },
      "source": [
        "\n",
        "score = clf.score(X_train,y_train)\n",
        "print(\"Acuracy (on train set) = \", score)"
      ],
      "execution_count": 28,
      "outputs": [
        {
          "output_type": "stream",
          "text": [
            "Acuracy (on train set) =  0.9324982602644398\n"
          ],
          "name": "stdout"
        }
      ]
    },
    {
      "cell_type": "code",
      "metadata": {
        "id": "X-qVGHCRTlp-",
        "colab_type": "code",
        "colab": {
          "base_uri": "https://localhost:8080/",
          "height": 34
        },
        "outputId": "0c7273c6-25b0-4a34-b17e-76f1f902b382"
      },
      "source": [
        "\n",
        "score = clf.score(X_test,y_test)\n",
        "print(\"Acuracy (on test set) = \", score)\n"
      ],
      "execution_count": 29,
      "outputs": [
        {
          "output_type": "stream",
          "text": [
            "Acuracy (on test set) =  0.9111111111111111\n"
          ],
          "name": "stdout"
        }
      ]
    },
    {
      "cell_type": "markdown",
      "metadata": {
        "id": "LXC9zjl9TlqC",
        "colab_type": "text"
      },
      "source": [
        "### Thay đổi số layers, số neurons trên mỗi layers:"
      ]
    },
    {
      "cell_type": "code",
      "metadata": {
        "id": "awXprcTPTlqD",
        "colab_type": "code",
        "colab": {}
      },
      "source": [
        "clf = MLPClassifier(hidden_layer_sizes=(30, 20, 15 ), activation='tanh', solver='sgd', \n",
        "                    alpha=0.00001, batch_size=4, learning_rate='constant', learning_rate_init=0.01, \n",
        "                    power_t=0.5, max_iter=500, shuffle=True, random_state=11, tol=0.00001, \n",
        "                    verbose=True, warm_start=False, momentum=0.8, nesterovs_momentum=True, \n",
        "                    early_stopping=True, validation_fraction=0.1, \n",
        "                    beta_1=0.9, beta_2=0.999, epsilon=1e-08)"
      ],
      "execution_count": 30,
      "outputs": []
    },
    {
      "cell_type": "code",
      "metadata": {
        "scrolled": true,
        "id": "Zyc18OZvTlqG",
        "colab_type": "code",
        "colab": {
          "base_uri": "https://localhost:8080/",
          "height": 884
        },
        "outputId": "27ffec4c-946e-4be5-e299-d62501698131"
      },
      "source": [
        "# Train the MLP classifier on training dataset\n",
        "clf.fit(X_train, y_train)\n"
      ],
      "execution_count": 31,
      "outputs": [
        {
          "output_type": "stream",
          "text": [
            "Iteration 1, loss = 1.34998927\n",
            "Validation score: 0.736111\n",
            "Iteration 2, loss = 0.97939220\n",
            "Validation score: 0.625000\n",
            "Iteration 3, loss = 1.33434595\n",
            "Validation score: 0.500000\n",
            "Iteration 4, loss = 1.23156798\n",
            "Validation score: 0.729167\n",
            "Iteration 5, loss = 1.12498011\n",
            "Validation score: 0.659722\n",
            "Iteration 6, loss = 1.10861617\n",
            "Validation score: 0.652778\n",
            "Iteration 7, loss = 0.84737059\n",
            "Validation score: 0.743056\n",
            "Iteration 8, loss = 0.86306266\n",
            "Validation score: 0.784722\n",
            "Iteration 9, loss = 0.71913138\n",
            "Validation score: 0.750000\n",
            "Iteration 10, loss = 0.65894590\n",
            "Validation score: 0.826389\n",
            "Iteration 11, loss = 0.69628824\n",
            "Validation score: 0.756944\n",
            "Iteration 12, loss = 0.98747083\n",
            "Validation score: 0.631944\n",
            "Iteration 13, loss = 1.00869301\n",
            "Validation score: 0.611111\n",
            "Iteration 14, loss = 1.09808260\n",
            "Validation score: 0.604167\n",
            "Iteration 15, loss = 0.97099868\n",
            "Validation score: 0.618056\n",
            "Iteration 16, loss = 1.14213807\n",
            "Validation score: 0.763889\n",
            "Iteration 17, loss = 0.85624564\n",
            "Validation score: 0.826389\n",
            "Iteration 18, loss = 0.90290275\n",
            "Validation score: 0.527778\n",
            "Iteration 19, loss = 0.96709801\n",
            "Validation score: 0.479167\n",
            "Iteration 20, loss = 0.84619188\n",
            "Validation score: 0.694444\n",
            "Iteration 21, loss = 1.19940740\n",
            "Validation score: 0.638889\n",
            "Validation score did not improve more than tol=0.000010 for 10 consecutive epochs. Stopping.\n"
          ],
          "name": "stdout"
        },
        {
          "output_type": "execute_result",
          "data": {
            "text/plain": [
              "MLPClassifier(activation='tanh', alpha=1e-05, batch_size=4, beta_1=0.9,\n",
              "              beta_2=0.999, early_stopping=True, epsilon=1e-08,\n",
              "              hidden_layer_sizes=(30, 20, 15), learning_rate='constant',\n",
              "              learning_rate_init=0.01, max_fun=15000, max_iter=500,\n",
              "              momentum=0.8, n_iter_no_change=10, nesterovs_momentum=True,\n",
              "              power_t=0.5, random_state=11, shuffle=True, solver='sgd',\n",
              "              tol=1e-05, validation_fraction=0.1, verbose=True,\n",
              "              warm_start=False)"
            ]
          },
          "metadata": {
            "tags": []
          },
          "execution_count": 31
        }
      ]
    },
    {
      "cell_type": "code",
      "metadata": {
        "id": "dtaYOPdjTlqL",
        "colab_type": "code",
        "colab": {
          "base_uri": "https://localhost:8080/",
          "height": 34
        },
        "outputId": "e2d4a214-0097-4547-e947-895ab7a2230d"
      },
      "source": [
        "\n",
        "score = clf.score(X_train,y_train)\n",
        "print(\"Acuracy (on train set) = \", score)"
      ],
      "execution_count": 32,
      "outputs": [
        {
          "output_type": "stream",
          "text": [
            "Acuracy (on train set) =  0.8058455114822547\n"
          ],
          "name": "stdout"
        }
      ]
    },
    {
      "cell_type": "code",
      "metadata": {
        "id": "Ts0MFS4eTlqQ",
        "colab_type": "code",
        "colab": {
          "base_uri": "https://localhost:8080/",
          "height": 34
        },
        "outputId": "dd91fcc6-e7c2-464a-c52a-02065b84d640"
      },
      "source": [
        "\n",
        "score = clf.score(X_test,y_test)\n",
        "print(\"Acuracy (on test set) = \", score)\n"
      ],
      "execution_count": 33,
      "outputs": [
        {
          "output_type": "stream",
          "text": [
            "Acuracy (on test set) =  0.7777777777777778\n"
          ],
          "name": "stdout"
        }
      ]
    },
    {
      "cell_type": "markdown",
      "metadata": {
        "id": "nP4o3aKpTlqZ",
        "colab_type": "text"
      },
      "source": [
        "- Nhận xét: việc chọn số Layers và số neurons trên mỗi Layers phải dựa vào từng bài toán  để có thể đạt được độ chính xác cao nhất"
      ]
    },
    {
      "cell_type": "code",
      "metadata": {
        "id": "LajO8L4rTlqd",
        "colab_type": "code",
        "colab": {}
      },
      "source": [
        ""
      ],
      "execution_count": 33,
      "outputs": []
    },
    {
      "cell_type": "code",
      "metadata": {
        "id": "AOua6q4rTlqh",
        "colab_type": "code",
        "colab": {}
      },
      "source": [
        ""
      ],
      "execution_count": 33,
      "outputs": []
    }
  ]
}